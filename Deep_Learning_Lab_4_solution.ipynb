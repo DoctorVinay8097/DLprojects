{
  "nbformat": 4,
  "nbformat_minor": 0,
  "metadata": {
    "colab": {
      "provenance": [],
      "authorship_tag": "ABX9TyO2gcjEz+EcNWwdOtHEInpl",
      "include_colab_link": true
    },
    "kernelspec": {
      "name": "python3",
      "display_name": "Python 3"
    },
    "language_info": {
      "name": "python"
    }
  },
  "cells": [
    {
      "cell_type": "markdown",
      "metadata": {
        "id": "view-in-github",
        "colab_type": "text"
      },
      "source": [
        "<a href=\"https://colab.research.google.com/github/DoctorVinay8097/DLprojects/blob/main/Deep_Learning_Lab_4_solution.ipynb\" target=\"_parent\"><img src=\"https://colab.research.google.com/assets/colab-badge.svg\" alt=\"Open In Colab\"/></a>"
      ]
    },
    {
      "cell_type": "markdown",
      "source": [
        "# **Implement Softmax classifier for CIFAR-10 dataset using 3 layer neural network.**"
      ],
      "metadata": {
        "id": "v5TkpCvsw1jI"
      }
    },
    {
      "cell_type": "markdown",
      "source": [
        "The **CIFAR dataset**, short for the **Canadian Institute For Advanced Research dataset**, is a collection of widely used computer vision datasets for image classification tasks. The CIFAR datasets are often used as benchmarks for testing the performance of various machine learning algorithms, especially in the field of deep learning.\n",
        "\n",
        "There are several versions of the CIFAR dataset, but the most well-known ones are CIFAR-10 and CIFAR-100:\n",
        "\n",
        "**CIFAR-10:**\n",
        "\n",
        "The CIFAR-10 dataset contains **60,000 32x32** color images in **10 different classes.**\n",
        "Each class represents a specific category, such as **airplanes, automobiles, birds, cats, deer, dogs, frogs, horses, ships, and trucks.**\n",
        "The dataset is split into **50,000 training images and 10,000 test images.**\n",
        "Each image is associated with a single label indicating its class."
      ],
      "metadata": {
        "id": "1Vtvg9OAzMg4"
      }
    },
    {
      "cell_type": "markdown",
      "source": [
        "## 1. **Import Libraries:** Start by importing the necessary libraries."
      ],
      "metadata": {
        "id": "K58OMFwGxCpe"
      }
    },
    {
      "cell_type": "code",
      "execution_count": 1,
      "metadata": {
        "id": "F5l7Y-DHwwwb"
      },
      "outputs": [],
      "source": [
        "import numpy as np\n",
        "import tensorflow as tf\n",
        "from tensorflow.keras import layers, models\n",
        "from tensorflow.keras.datasets import cifar10\n",
        "from tensorflow.keras.utils import to_categorical"
      ]
    },
    {
      "cell_type": "markdown",
      "source": [
        "## 2. **Load and Preprocess Data:** Load the CIFAR-10 dataset and preprocess the data."
      ],
      "metadata": {
        "id": "Tq4a2gqMxIz-"
      }
    },
    {
      "cell_type": "code",
      "source": [
        "# Load CIFAR-10 dataset\n",
        "(X_train, y_train), (X_test, y_test) = cifar10.load_data()\n",
        "\n",
        "# Preprocess data\n",
        "X_train = X_train.reshape(X_train.shape[0], -1) / 255.0\n",
        "X_test = X_test.reshape(X_test.shape[0], -1) / 255.0\n",
        "\n",
        "num_classes = 10\n",
        "y_train_one_hot = to_categorical(y_train, num_classes)\n",
        "y_test_one_hot = to_categorical(y_test, num_classes)"
      ],
      "metadata": {
        "colab": {
          "base_uri": "https://localhost:8080/"
        },
        "id": "nvvG-B6kxFo3",
        "outputId": "c6770e5f-a3e1-41ca-f6dd-64e0cb62c7e3"
      },
      "execution_count": 2,
      "outputs": [
        {
          "output_type": "stream",
          "name": "stdout",
          "text": [
            "Downloading data from https://www.cs.toronto.edu/~kriz/cifar-10-python.tar.gz\n",
            "170498071/170498071 [==============================] - 2s 0us/step\n"
          ]
        }
      ]
    },
    {
      "cell_type": "code",
      "source": [
        "## Visualize the dataset\n",
        "import matplotlib.pyplot as plt\n",
        "(X_train, y_train), (_, _) = cifar10.load_data()\n",
        "\n",
        "# Choose an image index to visualize\n",
        "image_index = 15\n",
        "\n",
        "# Display the image\n",
        "plt.imshow(X_train[image_index])\n",
        "plt.title(f\"Label: {y_train[image_index][0]}\")\n",
        "plt.axis('off')  # Turn off axis labels\n",
        "plt.show()"
      ],
      "metadata": {
        "colab": {
          "base_uri": "https://localhost:8080/",
          "height": 428
        },
        "id": "6SXgVIhPyvoC",
        "outputId": "14438cbc-2dd9-4d49-9588-31ddcd8069c8"
      },
      "execution_count": 11,
      "outputs": [
        {
          "output_type": "display_data",
          "data": {
            "text/plain": [
              "<Figure size 640x480 with 1 Axes>"
            ],
            "image/png": "[encoded data removed]"
          },
          "metadata": {}
        }
      ]
    },
    {
      "cell_type": "markdown",
      "source": [
        "## 3. **Build the Neural Network Model:** Create a 3-layer neural network model using Keras."
      ],
      "metadata": {
        "id": "OBY4Vz3JxYM6"
      }
    },
    {
      "cell_type": "code",
      "source": [
        "model = models.Sequential([\n",
        "    layers.Input(shape=X_train.shape[1:]),\n",
        "    layers.Dense(128, activation='relu'),\n",
        "    layers.Dense(64, activation='relu'),\n",
        "    layers.Dense(num_classes, activation='softmax')\n",
        "])\n",
        "\n",
        "model.compile(optimizer='adam', loss='categorical_crossentropy', metrics=['accuracy'])"
      ],
      "metadata": {
        "id": "3-tLzFrbxUHR"
      },
      "execution_count": 3,
      "outputs": []
    },
    {
      "cell_type": "markdown",
      "source": [
        "4. **Train the Model:** Train the model using the training data."
      ],
      "metadata": {
        "id": "AcaWW6imxfvl"
      }
    },
    {
      "cell_type": "code",
      "source": [
        "epochs = 10\n",
        "batch_size = 128\n",
        "\n",
        "model.fit(X_train, y_train_one_hot, epochs=epochs, batch_size=batch_size, validation_split=0.2)"
      ],
      "metadata": {
        "colab": {
          "base_uri": "https://localhost:8080/"
        },
        "id": "JhVWxAI-xchR",
        "outputId": "618b27f9-b9f1-4b3a-cc4a-ae585e80ba31"
      },
      "execution_count": 4,
      "outputs": [
        {
          "output_type": "stream",
          "name": "stdout",
          "text": [
            "Epoch 1/10\n",
            "313/313 [==============================] - 6s 14ms/step - loss: 1.9470 - accuracy: 0.2964 - val_loss: 1.8282 - val_accuracy: 0.3557\n",
            "Epoch 2/10\n",
            "313/313 [==============================] - 4s 12ms/step - loss: 1.7631 - accuracy: 0.3751 - val_loss: 1.7542 - val_accuracy: 0.3805\n",
            "Epoch 3/10\n",
            "313/313 [==============================] - 5s 16ms/step - loss: 1.6762 - accuracy: 0.4026 - val_loss: 1.6675 - val_accuracy: 0.4089\n",
            "Epoch 4/10\n",
            "313/313 [==============================] - 4s 13ms/step - loss: 1.6237 - accuracy: 0.4200 - val_loss: 1.6311 - val_accuracy: 0.4215\n",
            "Epoch 5/10\n",
            "313/313 [==============================] - 4s 13ms/step - loss: 1.5826 - accuracy: 0.4396 - val_loss: 1.6271 - val_accuracy: 0.4221\n",
            "Epoch 6/10\n",
            "313/313 [==============================] - 5s 16ms/step - loss: 1.5465 - accuracy: 0.4504 - val_loss: 1.6228 - val_accuracy: 0.4264\n",
            "Epoch 7/10\n",
            "313/313 [==============================] - 4s 14ms/step - loss: 1.5250 - accuracy: 0.4573 - val_loss: 1.5750 - val_accuracy: 0.4411\n",
            "Epoch 8/10\n",
            "313/313 [==============================] - 4s 13ms/step - loss: 1.4915 - accuracy: 0.4678 - val_loss: 1.5678 - val_accuracy: 0.4454\n",
            "Epoch 9/10\n",
            "313/313 [==============================] - 5s 16ms/step - loss: 1.4723 - accuracy: 0.4748 - val_loss: 1.5589 - val_accuracy: 0.4462\n",
            "Epoch 10/10\n",
            "313/313 [==============================] - 4s 13ms/step - loss: 1.4577 - accuracy: 0.4796 - val_loss: 1.5144 - val_accuracy: 0.4644\n"
          ]
        },
        {
          "output_type": "execute_result",
          "data": {
            "text/plain": [
              "<keras.callbacks.History at 0x7b5b3a7050c0>"
            ]
          },
          "metadata": {},
          "execution_count": 4
        }
      ]
    },
    {
      "cell_type": "markdown",
      "source": [
        "5. **Evaluate the Model:** Evaluate the trained model on the test data."
      ],
      "metadata": {
        "id": "A82-KZo_xwJ7"
      }
    },
    {
      "cell_type": "code",
      "source": [
        "loss, accuracy = model.evaluate(X_test, y_test_one_hot)\n",
        "print(\"Test Accuracy:\", accuracy)"
      ],
      "metadata": {
        "colab": {
          "base_uri": "https://localhost:8080/"
        },
        "id": "BjXwhN63xjT9",
        "outputId": "fe1660fe-c597-4e20-b2b2-908a19572be8"
      },
      "execution_count": 6,
      "outputs": [
        {
          "output_type": "stream",
          "name": "stdout",
          "text": [
            "313/313 [==============================] - 1s 3ms/step - loss: 1.4863 - accuracy: 0.4732\n",
            "Test Accuracy: 0.4731999933719635\n"
          ]
        }
      ]
    },
    {
      "cell_type": "code",
      "source": [],
      "metadata": {
        "id": "jiroqw0ix3ay"
      },
      "execution_count": null,
      "outputs": []
    }
  ]
}