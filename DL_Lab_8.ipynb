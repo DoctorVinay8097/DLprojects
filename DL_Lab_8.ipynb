{
  "nbformat": 4,
  "nbformat_minor": 0,
  "metadata": {
    "colab": {
      "provenance": [],
      "authorship_tag": "ABX9TyMc5UtWUsS+5NtvQHXQu+Jl",
      "include_colab_link": true
    },
    "kernelspec": {
      "name": "python3",
      "display_name": "Python 3"
    },
    "language_info": {
      "name": "python"
    }
  },
  "cells": [
    {
      "cell_type": "markdown",
      "metadata": {
        "id": "view-in-github",
        "colab_type": "text"
      },
      "source": [
        "<a href=\"https://colab.research.google.com/github/DoctorVinay8097/DLprojects/blob/main/DL_Lab_8.ipynb\" target=\"_parent\"><img src=\"https://colab.research.google.com/assets/colab-badge.svg\" alt=\"Open In Colab\"/></a>"
      ]
    },
    {
      "cell_type": "markdown",
      "source": [
        "# **Implementation of VGG-16 for training images and Classification**\n",
        "\n",
        "**VGG-16, or Visual Geometry Group 16**, is a convolutional neural network (CNN) architecture commonly used in deep learning and computer vision tasks, particularly for image classification and object recognition. It was developed by the Visual Geometry Group at the University of Oxford.\n",
        "\n",
        "**Here's an overview of the VGG-16 architecture**:\n",
        "\n",
        "**Input Layer:** The network accepts RGB images as input, typically with a fixed size of 224x224 pixels.\n",
        "\n",
        "**Convolutional Layers:** VGG-16 consists of 13 convolutional layers stacked on top of each other. These layers are relatively small (3x3 convolutional filters), which is a key characteristic of VGG networks.\n",
        "\n",
        "**Max-Pooling Layers:** After each pair of convolutional layers, there is a max-pooling layer.\n",
        "\n",
        "**Fully Connected Layers:** Following the convolutional and max-pooling layers, there are three fully connected layers. The first two fully connected layers have 4,096 neurons each, and the last fully connected layer has 1,000 neurons.\n",
        "\n",
        "**Softmax Layer:** The final layer is a softmax layer, which normalizes the output of the last fully connected layer to produce class probabilities.."
      ],
      "metadata": {
        "id": "lQmLkHd29Jg_"
      }
    },
    {
      "cell_type": "code",
      "execution_count": 2,
      "metadata": {
        "colab": {
          "base_uri": "https://localhost:8080/",
          "height": 545
        },
        "id": "C0hBq3IZ8j1W",
        "outputId": "b7b14927-bf85-439c-906f-b3b80234e8a0"
      },
      "outputs": [
        {
          "output_type": "display_data",
          "data": {
            "text/plain": [
              "<Figure size 640x480 with 1 Axes>"
            ],
            "image/png": "[encoded data removed]"
          },
          "metadata": {}
        },
        {
          "output_type": "stream",
          "name": "stdout",
          "text": [
            "1/1 [==============================] - 2s 2s/step\n",
            "Downloading data from https://storage.googleapis.com/download.tensorflow.org/data/imagenet_class_index.json\n",
            "35363/35363 [==============================] - 0s 0us/step\n",
            "1: envelope (0.18)\n",
            "2: umbrella (0.10)\n",
            "3: spotlight (0.07)\n",
            "4: lampshade (0.05)\n",
            "5: rule (0.03)\n"
          ]
        }
      ],
      "source": [
        "import numpy as np\n",
        "import tensorflow as tf\n",
        "from tensorflow.keras.applications import VGG16\n",
        "from tensorflow.keras.preprocessing import image\n",
        "from tensorflow.keras.applications.vgg16 import preprocess_input, decode_predictions\n",
        "from PIL import Image\n",
        "import matplotlib.pyplot as plt\n",
        "\n",
        "# Load the VGG-16 model pre-trained on ImageNet\n",
        "model = VGG16(weights='imagenet')\n",
        "\n",
        "# Create a sample image using PIL\n",
        "img = Image.new('RGB', (224, 224))\n",
        "pixels = img.load()\n",
        "for i in range(224):\n",
        "    for j in range(224):\n",
        "        pixels[i, j] = (i % 256, j % 256, (i + j) % 256)  # RGB color pattern\n",
        "\n",
        "# Display the sample image using matplotlib\n",
        "plt.imshow(img)\n",
        "plt.axis('off')\n",
        "plt.show()\n",
        "\n",
        "# Convert the PIL image to a NumPy array and preprocess it\n",
        "img_array = image.img_to_array(img)\n",
        "img_array = np.expand_dims(img_array, axis=0)\n",
        "img_array = preprocess_input(img_array)\n",
        "\n",
        "# Make predictions with the model\n",
        "predictions = model.predict(img_array)\n",
        "\n",
        "# Decode and display the top predictions\n",
        "decoded_predictions = decode_predictions(predictions, top=5)[0]\n",
        "for i, (imagenet_id, label, score) in enumerate(decoded_predictions):\n",
        "    print(f\"{i + 1}: {label} ({score:.2f})\")\n"
      ]
    },
    {
      "cell_type": "code",
      "source": [],
      "metadata": {
        "id": "QIAqsDrs8lZK"
      },
      "execution_count": null,
      "outputs": []
    }
  ]
}