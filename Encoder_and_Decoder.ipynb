{
  "nbformat": 4,
  "nbformat_minor": 0,
  "metadata": {
    "colab": {
      "provenance": [],
      "authorship_tag": "ABX9TyMt3gsdc4MEmtxWst+5Ht+a",
      "include_colab_link": true
    },
    "kernelspec": {
      "name": "python3",
      "display_name": "Python 3"
    },
    "language_info": {
      "name": "python"
    }
  },
  "cells": [
    {
      "cell_type": "markdown",
      "metadata": {
        "id": "view-in-github",
        "colab_type": "text"
      },
      "source": [
        "<a href=\"https://colab.research.google.com/github/DoctorVinay8097/DLprojects/blob/main/Encoder_and_Decoder.ipynb\" target=\"_parent\"><img src=\"https://colab.research.google.com/assets/colab-badge.svg\" alt=\"Open In Colab\"/></a>"
      ]
    },
    {
      "cell_type": "markdown",
      "source": [
        "# **Encoder and Decoder**\n",
        "\n",
        "\n",
        "Imagine you're sending a secret message to your friend, and you want to make sure nobody else can understand it. You can use two special machines to do this: **an encoder and a decoder.**"
      ],
      "metadata": {
        "id": "ZM6l-TeBRtl0"
      }
    },
    {
      "cell_type": "markdown",
      "source": [
        "**Encoder:**\n",
        "\n",
        "The encoder is like a machine that takes your message (which could be a picture, a sentence, or anything) and turns it into a secret code. It's like putting your message into a box with a lock, and the encoder creates the key.\n",
        "\n",
        "In deep learning, an encoder is a part of a neural network that takes some data, like an image or text, and converts it into a different format. This new format is designed to capture important information about the input data in a more compact and abstract way. The idea is to make it harder for anyone to understand the original data but still keep its essential features."
      ],
      "metadata": {
        "id": "H9Bx1y_7R-VG"
      }
    },
    {
      "cell_type": "markdown",
      "source": [
        "**Decoder:**\n",
        "\n",
        "The decoder is the machine your friend has. It takes the secret code you sent and uses the key to unlock it, revealing the original message. It's like opening the box with the key you created with the encoder.\n",
        "\n",
        "In deep learning, a decoder is another part of a neural network that takes the encoded data and turns it back into something that's more understandable, like an image or text. It's designed to reconstruct the original data from the code created by the encoder."
      ],
      "metadata": {
        "id": "64k5YKS4SLxx"
      }
    },
    {
      "cell_type": "markdown",
      "source": [
        "The encoder and decoder are often used together in a type of deep learning model called an **\"autoencoder.\"** Autoencoders are used for various tasks, like image compression, denoising, and even generating new data that's similar to the input data."
      ],
      "metadata": {
        "id": "3wNsPtK0STx9"
      }
    },
    {
      "cell_type": "code",
      "source": [
        "import numpy as np\n",
        "import matplotlib.pyplot as plt\n",
        "from tensorflow import keras\n",
        "from tensorflow.keras import layers\n",
        "from tensorflow.keras.datasets import fashion_mnist\n",
        "\n",
        "# Load the Fashion MNIST dataset as an example\n",
        "(x_train, _), (x_test, _) = fashion_mnist.load_data()\n",
        "\n",
        "# Normalize and prepare the data (values between 0 and 1)\n",
        "x_train = x_train.astype(\"float32\") / 255.0\n",
        "x_test = x_test.astype(\"float32\") / 255.0\n",
        "\n",
        "# Build an autoencoder model\n",
        "input_img = keras.Input(shape=(28, 28, 1))\n",
        "\n",
        "# Encoder\n",
        "x = layers.Flatten()(input_img)\n",
        "x = layers.Dense(32, activation=\"relu\")(x)\n",
        "encoded = layers.Dense(16, activation=\"relu\")(x)\n",
        "\n",
        "# Decoder\n",
        "x = layers.Dense(32, activation=\"relu\")(encoded)\n",
        "x = layers.Dense(784, activation=\"sigmoid\")(x)\n",
        "decoded = layers.Reshape((28, 28, 1))(x)\n",
        "\n",
        "autoencoder = keras.Model(input_img, decoded)\n",
        "\n",
        "# Compile the model\n",
        "autoencoder.compile(optimizer=\"adam\", loss=\"binary_crossentropy\")\n",
        "\n",
        "# Train the autoencoder\n",
        "autoencoder.fit(x_train, x_train, epochs=50, batch_size=256, shuffle=True, validation_data=(x_test, x_test))\n",
        "\n",
        "# Encode and decode the test images\n",
        "encoded_images = autoencoder.predict(x_test)\n",
        "\n",
        "# Display some original and autoencoded images\n",
        "n = 10  # Number of images to display\n",
        "plt.figure(figsize=(20, 4))\n",
        "for i in range(n):\n",
        "    # Original Images\n",
        "    ax = plt.subplot(2, n, i + 1)\n",
        "    plt.imshow(x_test[i].reshape(28, 28))\n",
        "    plt.gray()\n",
        "    ax.get_xaxis().set_visible(False)\n",
        "    ax.get_yaxis().set_visible(False)\n",
        "\n",
        "    # Autoencoded Images\n",
        "    ax = plt.subplot(2, n, i + 1 + n)\n",
        "    plt.imshow(encoded_images[i].reshape(28, 28))\n",
        "    plt.gray()\n",
        "    ax.get_xaxis().set_visible(False)\n",
        "    ax.get_yaxis().set_visible(False)\n",
        "\n",
        "plt.show()\n"
      ],
      "metadata": {
        "colab": {
          "base_uri": "https://localhost:8080/",
          "height": 1000
        },
        "id": "FSDUIRdnSLD6",
        "outputId": "8d069121-3050-45f7-9ff1-d2bea37edc5a"
      },
      "execution_count": null,
      "outputs": [
        {
          "output_type": "stream",
          "name": "stdout",
          "text": [
            "Downloading data from https://storage.googleapis.com/tensorflow/tf-keras-datasets/train-labels-idx1-ubyte.gz\n",
            "29515/29515 [==============================] - 0s 0us/step\n",
            "Downloading data from https://storage.googleapis.com/tensorflow/tf-keras-datasets/train-images-idx3-ubyte.gz\n",
            "26421880/26421880 [==============================] - 0s 0us/step\n",
            "Downloading data from https://storage.googleapis.com/tensorflow/tf-keras-datasets/t10k-labels-idx1-ubyte.gz\n",
            "5148/5148 [==============================] - 0s 0us/step\n",
            "Downloading data from https://storage.googleapis.com/tensorflow/tf-keras-datasets/t10k-images-idx3-ubyte.gz\n",
            "4422102/4422102 [==============================] - 0s 0us/step\n",
            "Epoch 1/50\n",
            "235/235 [==============================] - 6s 19ms/step - loss: 0.4090 - val_loss: 0.3393\n",
            "Epoch 2/50\n",
            "235/235 [==============================] - 4s 15ms/step - loss: 0.3216 - val_loss: 0.3159\n",
            "Epoch 3/50\n",
            "235/235 [==============================] - 4s 15ms/step - loss: 0.3108 - val_loss: 0.3105\n",
            "Epoch 4/50\n",
            "235/235 [==============================] - 5s 20ms/step - loss: 0.3068 - val_loss: 0.3078\n",
            "Epoch 5/50\n",
            "235/235 [==============================] - 4s 15ms/step - loss: 0.3042 - val_loss: 0.3053\n",
            "Epoch 6/50\n",
            "235/235 [==============================] - 3s 14ms/step - loss: 0.3021 - val_loss: 0.3035\n",
            "Epoch 7/50\n",
            "235/235 [==============================] - 5s 20ms/step - loss: 0.3005 - val_loss: 0.3018\n",
            "Epoch 8/50\n",
            "235/235 [==============================] - 3s 14ms/step - loss: 0.2993 - val_loss: 0.3007\n",
            "Epoch 9/50\n",
            "235/235 [==============================] - 4s 15ms/step - loss: 0.2983 - val_loss: 0.2998\n",
            "Epoch 10/50\n",
            "235/235 [==============================] - 4s 16ms/step - loss: 0.2974 - val_loss: 0.2989\n",
            "Epoch 11/50\n",
            "235/235 [==============================] - 4s 18ms/step - loss: 0.2965 - val_loss: 0.2983\n",
            "Epoch 12/50\n",
            "235/235 [==============================] - 3s 14ms/step - loss: 0.2958 - val_loss: 0.2974\n",
            "Epoch 13/50\n",
            "235/235 [==============================] - 4s 15ms/step - loss: 0.2951 - val_loss: 0.2969\n",
            "Epoch 14/50\n",
            "235/235 [==============================] - 5s 20ms/step - loss: 0.2945 - val_loss: 0.2963\n",
            "Epoch 15/50\n",
            "235/235 [==============================] - 4s 15ms/step - loss: 0.2939 - val_loss: 0.2956\n",
            "Epoch 16/50\n",
            "235/235 [==============================] - 4s 15ms/step - loss: 0.2933 - val_loss: 0.2951\n",
            "Epoch 17/50\n",
            "235/235 [==============================] - 4s 18ms/step - loss: 0.2928 - val_loss: 0.2947\n",
            "Epoch 18/50\n",
            "235/235 [==============================] - 4s 16ms/step - loss: 0.2925 - val_loss: 0.2944\n",
            "Epoch 19/50\n",
            "235/235 [==============================] - 3s 14ms/step - loss: 0.2922 - val_loss: 0.2942\n",
            "Epoch 20/50\n",
            "235/235 [==============================] - 3s 15ms/step - loss: 0.2918 - val_loss: 0.2938\n",
            "Epoch 21/50\n",
            "235/235 [==============================] - 4s 19ms/step - loss: 0.2916 - val_loss: 0.2937\n",
            "Epoch 22/50\n",
            "235/235 [==============================] - 4s 15ms/step - loss: 0.2914 - val_loss: 0.2933\n",
            "Epoch 23/50\n",
            "235/235 [==============================] - 3s 14ms/step - loss: 0.2911 - val_loss: 0.2931\n",
            "Epoch 24/50\n",
            "235/235 [==============================] - 4s 16ms/step - loss: 0.2909 - val_loss: 0.2929\n",
            "Epoch 25/50\n",
            "235/235 [==============================] - 4s 18ms/step - loss: 0.2906 - val_loss: 0.2926\n",
            "Epoch 26/50\n",
            "235/235 [==============================] - 4s 17ms/step - loss: 0.2904 - val_loss: 0.2926\n",
            "Epoch 27/50\n",
            "235/235 [==============================] - 3s 15ms/step - loss: 0.2903 - val_loss: 0.2922\n",
            "Epoch 28/50\n",
            "235/235 [==============================] - 5s 20ms/step - loss: 0.2900 - val_loss: 0.2921\n",
            "Epoch 29/50\n",
            "235/235 [==============================] - 4s 15ms/step - loss: 0.2899 - val_loss: 0.2919\n",
            "Epoch 30/50\n",
            "235/235 [==============================] - 4s 15ms/step - loss: 0.2897 - val_loss: 0.2917\n",
            "Epoch 31/50\n",
            "235/235 [==============================] - 5s 20ms/step - loss: 0.2895 - val_loss: 0.2916\n",
            "Epoch 32/50\n",
            "235/235 [==============================] - 3s 14ms/step - loss: 0.2894 - val_loss: 0.2916\n",
            "Epoch 33/50\n",
            "235/235 [==============================] - 4s 17ms/step - loss: 0.2893 - val_loss: 0.2914\n",
            "Epoch 34/50\n",
            "235/235 [==============================] - 3s 15ms/step - loss: 0.2891 - val_loss: 0.2914\n",
            "Epoch 35/50\n",
            "235/235 [==============================] - 4s 18ms/step - loss: 0.2890 - val_loss: 0.2915\n",
            "Epoch 36/50\n",
            "235/235 [==============================] - 3s 15ms/step - loss: 0.2889 - val_loss: 0.2910\n",
            "Epoch 37/50\n",
            "235/235 [==============================] - 3s 14ms/step - loss: 0.2888 - val_loss: 0.2909\n",
            "Epoch 38/50\n",
            "235/235 [==============================] - 5s 19ms/step - loss: 0.2887 - val_loss: 0.2909\n",
            "Epoch 39/50\n",
            "235/235 [==============================] - 3s 14ms/step - loss: 0.2886 - val_loss: 0.2911\n",
            "Epoch 40/50\n",
            "235/235 [==============================] - 3s 15ms/step - loss: 0.2885 - val_loss: 0.2907\n",
            "Epoch 41/50\n",
            "235/235 [==============================] - 3s 14ms/step - loss: 0.2884 - val_loss: 0.2906\n",
            "Epoch 42/50\n",
            "235/235 [==============================] - 4s 18ms/step - loss: 0.2883 - val_loss: 0.2905\n",
            "Epoch 43/50\n",
            "235/235 [==============================] - 3s 15ms/step - loss: 0.2882 - val_loss: 0.2904\n",
            "Epoch 44/50\n",
            "235/235 [==============================] - 3s 14ms/step - loss: 0.2881 - val_loss: 0.2904\n",
            "Epoch 45/50\n",
            "235/235 [==============================] - 4s 19ms/step - loss: 0.2881 - val_loss: 0.2903\n",
            "Epoch 46/50\n",
            "235/235 [==============================] - 4s 15ms/step - loss: 0.2879 - val_loss: 0.2902\n",
            "Epoch 47/50\n",
            "235/235 [==============================] - 3s 15ms/step - loss: 0.2879 - val_loss: 0.2902\n",
            "Epoch 48/50\n",
            "235/235 [==============================] - 3s 15ms/step - loss: 0.2878 - val_loss: 0.2900\n",
            "Epoch 49/50\n",
            "235/235 [==============================] - 4s 19ms/step - loss: 0.2877 - val_loss: 0.2899\n",
            "Epoch 50/50\n",
            "235/235 [==============================] - 3s 14ms/step - loss: 0.2876 - val_loss: 0.2899\n",
            "313/313 [==============================] - 1s 2ms/step\n"
          ]
        },
        {
          "output_type": "display_data",
          "data": {
            "text/plain": [
              "<Figure size 2000x400 with 20 Axes>"
            ],
            "image/png": "[encoded data removed]"
          },
          "metadata": {}
        }
      ]
    },
    {
      "cell_type": "markdown",
      "source": [
        "**Auto Encoder model**\n",
        "\n",
        "We define the architecture of the autoencoder model. It consists of an encoder and a decoder.\n",
        "\n",
        "\n",
        "**Dimensionality Reduction:**\n",
        "\n",
        "The encoder part of the autoencoder takes the original 28x28 pixel images and compresses them into a lower-dimensional representation. In this case, it reduces the dimension from 784 (28x28) to 16.\n",
        "\n",
        "\n",
        "This dimensionality reduction can be useful for various purposes, such as feature extraction. It captures essential features of the input images in a more compact form. For example, in the Fashion MNIST dataset, it might capture the basic shapes and patterns of the fashion items.\n",
        "\n",
        "\n",
        "**Image Reconstruction:**\n",
        "\n",
        "The decoder part of the autoencoder takes the compressed representation (16 dimensions) and reconstructs the original 28x28 pixel images.\n",
        "By training the autoencoder on the same data as both input and target, the model learns to recreate the original images as accurately as possible.\n",
        "\n",
        "\n",
        "This reconstruction process can be valuable for tasks like image denoising or image inpainting. If an image is partially damaged or contains noise, the autoencoder can be used to restore it to a cleaner version."
      ],
      "metadata": {
        "id": "wNCUhvupUw9u"
      }
    },
    {
      "cell_type": "markdown",
      "source": [
        "**Loss function**\n",
        "\n",
        "The loss function used in the autoencoder code is binary cross-entropy, also known as binary log loss or binary logistic loss. This loss function is commonly used in autoencoders when treating the problem as a pixel-wise binary classification problem.\n",
        "\n",
        "In the context of the autoencoder, each pixel in the image is treated as a separate binary classification problem. The task is to predict whether each pixel should be white (1) or black (0)."
      ],
      "metadata": {
        "id": "zjMxvMEZX-EQ"
      }
    },
    {
      "cell_type": "markdown",
      "source": [
        "**Applications of autoencoders**\n",
        "\n",
        "**Data Denoising:**\n",
        "\n",
        "Autoencoders can be trained to remove noise from data. When presented with noisy data, they can reconstruct a cleaner version, making them useful for image denoising, signal denoising, and more.\n",
        "\n",
        "**Image Super-Resolution:**\n",
        "\n",
        "Autoencoders can be trained to upscale low-resolution images to higher resolutions. This is useful for improving the quality of images in applications like image processing and medical imaging.\n",
        "\n",
        "**Image Generation:**\n",
        "\n",
        "Variational autoencoders (a type of autoencoder) are used for generating new data samples that are similar to the training data. This is employed in applications like generative art and generating new images from a given dataset.\n",
        "\n",
        "**Speech Recognition and Generation:**\n",
        "\n",
        "Autoencoders are employed in tasks like speech recognition and synthesis, where they model audio signals and their characteristics."
      ],
      "metadata": {
        "id": "2At_fD_2YgMf"
      }
    },
    {
      "cell_type": "markdown",
      "source": [
        "# **Attention mechanism**\n",
        "* An **attention mechanism** in deep learning is a fundamental component that allows a neural network to focus on specific parts of the input sequence or feature space when making predictions or encoding information.\n",
        "\n",
        "* It has been particularly influential in tasks like natural language processing, image captioning, and machine translation.\n",
        "\n",
        "* The attention mechanism allows the model to weigh the importance of different elements in the input data dynamically, giving more attention to relevant parts and less attention to irrelevant parts.\n",
        "\n",
        "\n",
        "**Example:**\n",
        "\n",
        "Let's say you're translating the English sentence \"I see a big cat\" into French. When generating the French word for \"big,\" the attention mechanism might assign higher weights to the word \"big\" and lower weights to the other words in the English sentence. This allows the model to focus on the relevant information and produce an accurate translation."
      ],
      "metadata": {
        "id": "8VpwUy3M1puw"
      }
    },
    {
      "cell_type": "markdown",
      "source": [
        "## **Attention over images**\n",
        "\n",
        "* Attention mechanisms are not exclusive to natural language processing tasks; they can also be applied to image-related tasks.\n",
        "\n",
        "* In the context of computer vision, attention mechanisms can help models focus on specific regions or features of an image, enhancing their performance in tasks like image classification, object detection, and image captioning.\n",
        "\n",
        "* This approach is often referred to as \"visual attention.\""
      ],
      "metadata": {
        "id": "rbt4HCd_4eSN"
      }
    },
    {
      "cell_type": "markdown",
      "source": [
        "**Visual Attention in Image Classification:**\n",
        "\n",
        "Consider an image classification task where you have an image containing multiple objects, and you want to identify the main object in the image. Visual attention can help a model to selectively focus on different regions of the image, just like how a human would look at different parts of an image before making a decision.\n",
        "\n",
        "**Input Image:** You start with an input image, which is represented as a matrix of pixel values. The size of the image could be, for example, 224x224 pixels.\n",
        "\n",
        "**Convolutional Neural Network (CNN):** To process the image and extract meaningful features, you typically use a CNN, which consists of convolutional layers. These layers learn to recognize various patterns and features in the image.\n",
        "\n",
        "**Attention Mechanism:** In this context, the attention mechanism helps the model determine where to focus its \"attention.\" This can be thought of as a weight distribution over different regions of the image.\n",
        "\n",
        "**Soft Attention Weights:** The attention mechanism calculates soft attention weights for different image regions. These weights indicate the importance of each region for the task at hand. Regions with higher attention weights are given more importance, and the model focuses on them.\n",
        "\n",
        "**Weighted Sum:** The model computes a weighted sum of the CNN feature maps, with the attention weights serving as the weights. This weighted sum represents the most relevant information in the image.\n",
        "\n",
        "**Classifier:** Finally, the model uses this weighted feature representation to make a prediction about the image's content, which could be the class label or a description."
      ],
      "metadata": {
        "id": "syHZjyTI5pa6"
      }
    },
    {
      "cell_type": "markdown",
      "source": [
        "## **Hierarchical Attention**\n",
        "\n",
        "**Hierarchical attention** is an extension of the traditional attention mechanism used in deep learning, which enhances the model's ability to attend to multiple levels of information in a hierarchical manner.\n",
        "\n",
        "It is especially useful when dealing with sequences of data, where different levels of granularity need to be considered.\n",
        "\n",
        "Hierarchical attention can be applied to tasks like document classification, text summarization, and video analysis, where information exists at different levels of detail within a document or sequence.\n",
        "\n",
        "* **Token-Level Attention:** At the lowest level, you have token-level attention. This is similar to the traditional attention mechanism, where the model focuses on specific tokens or words within a sequence. Token-level attention helps capture fine-grained details and relationships within short sequences.\n",
        "\n",
        "* **Sentence-Level Attention:** At a higher level, you can introduce sentence-level attention. This attention mechanism considers entire sentences or segments of text. It allows the model to weigh the importance of different sentences within a document or sequence. Sentence-level attention captures the context and themes within a document.\n",
        "\n",
        "* **Document-Level Attention:** At the top level, document-level attention considers the entire document or sequence as a whole. It helps the model understand the global context and overall structure of the document. This can be particularly useful when dealing with long documents or sequences."
      ],
      "metadata": {
        "id": "gC_xvzOM7yeW"
      }
    }
  ]
}