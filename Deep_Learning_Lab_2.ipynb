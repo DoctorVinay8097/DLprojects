{
  "nbformat": 4,
  "nbformat_minor": 0,
  "metadata": {
    "colab": {
      "provenance": [],
      "authorship_tag": "ABX9TyPk1GsWefoZHK11QBhNQB6N",
      "include_colab_link": true
    },
    "kernelspec": {
      "name": "python3",
      "display_name": "Python 3"
    },
    "language_info": {
      "name": "python"
    }
  },
  "cells": [
    {
      "cell_type": "markdown",
      "metadata": {
        "id": "view-in-github",
        "colab_type": "text"
      },
      "source": [
        "<a href=\"https://colab.research.google.com/github/DoctorVinay8097/DLprojects/blob/main/Deep_Learning_Lab_2.ipynb\" target=\"_parent\"><img src=\"https://colab.research.google.com/assets/colab-badge.svg\" alt=\"Open In Colab\"/></a>"
      ]
    },
    {
      "cell_type": "markdown",
      "source": [
        "# Implement a python program to recognise characters. Use MNIST dataset for the same."
      ],
      "metadata": {
        "id": "08b_tRL3iwBN"
      }
    },
    {
      "cell_type": "markdown",
      "source": [
        "The steps we'll follow in this project are as follows:\n",
        "\n",
        "* Import necessary libraries\n",
        "\n",
        "* Load and preprocess the MNIST dataset\n",
        "* Build a neural network model using Keras\n",
        "* Compile and train the model\n",
        "* Evaluate the model on the test set"
      ],
      "metadata": {
        "id": "QzSkgI1Di0We"
      }
    },
    {
      "cell_type": "markdown",
      "source": [
        "## **Step 1**: Import necessary libraries\n"
      ],
      "metadata": {
        "id": "MBaijmtMjO1d"
      }
    },
    {
      "cell_type": "code",
      "source": [
        "import numpy as np\n",
        "import tensorflow as tf\n",
        "from tensorflow.keras.datasets import mnist\n",
        "from tensorflow.keras.models import Sequential\n",
        "from tensorflow.keras.layers import Dense, Flatten\n",
        "from tensorflow.keras.optimizers import Adam\n",
        "from sklearn.model_selection import GridSearchCV"
      ],
      "metadata": {
        "id": "bkWocLlejV6-"
      },
      "execution_count": null,
      "outputs": []
    },
    {
      "cell_type": "markdown",
      "source": [
        "## **Step 2**: Load and preprocess the MNIST dataset\n"
      ],
      "metadata": {
        "id": "EbDYhdJFjdQe"
      }
    },
    {
      "cell_type": "code",
      "source": [
        "# Load the MNIST dataset\n",
        "(train_images, train_labels), (test_images, test_labels) = mnist.load_data()\n",
        "\n",
        "# Normalize the images to values between 0 and 1\n",
        "train_images = train_images / 255.0\n",
        "test_images = test_images / 255.0\n",
        "\n",
        "# Reshape the images to a 1D vector (flatten)\n",
        "train_images = train_images.reshape(train_images.shape[0], 28 * 28)\n",
        "test_images = test_images.reshape(test_images.shape[0], 28 * 28)\n"
      ],
      "metadata": {
        "colab": {
          "base_uri": "https://localhost:8080/"
        },
        "id": "FQuiWGInjkN5",
        "outputId": "62f2ffb6-3b48-4382-cc49-7263be863e0b"
      },
      "execution_count": null,
      "outputs": [
        {
          "output_type": "stream",
          "name": "stdout",
          "text": [
            "Downloading data from https://storage.googleapis.com/tensorflow/tf-keras-datasets/mnist.npz\n",
            "11490434/11490434 [==============================] - 0s 0us/step\n"
          ]
        }
      ]
    },
    {
      "cell_type": "markdown",
      "source": [
        "## **Step 3**: Build a neural network model using Keras\n"
      ],
      "metadata": {
        "id": "2137qFnwj2YI"
      }
    },
    {
      "cell_type": "code",
      "source": [
        "def create_model(hidden_units=128):\n",
        "    model = Sequential([\n",
        "        Dense(hidden_units, activation='relu', input_shape=(784,)),\n",
        "        Dense(10, activation='softmax')\n",
        "    ])\n",
        "    return model"
      ],
      "metadata": {
        "id": "fnUEbDOLjtY-"
      },
      "execution_count": null,
      "outputs": []
    },
    {
      "cell_type": "markdown",
      "source": [
        "## **Step 4**: Compile and train the model"
      ],
      "metadata": {
        "id": "D9qImnFtkGNV"
      }
    },
    {
      "cell_type": "code",
      "source": [
        "# Create the model\n",
        "model = create_model()\n",
        "\n",
        "# Compile the model\n",
        "model.compile(optimizer=Adam(), loss='sparse_categorical_crossentropy', metrics=['accuracy'])\n",
        "\n",
        "# Train the model\n",
        "model.fit(train_images, train_labels, epochs=5, batch_size=128, validation_split=0.1)"
      ],
      "metadata": {
        "colab": {
          "base_uri": "https://localhost:8080/"
        },
        "id": "bJ0iTv1MkCkj",
        "outputId": "b6e43f38-797f-4f9c-8360-c57f945aaa48"
      },
      "execution_count": null,
      "outputs": [
        {
          "output_type": "stream",
          "name": "stdout",
          "text": [
            "Epoch 1/5\n",
            "422/422 [==============================] - 5s 9ms/step - loss: 0.3693 - accuracy: 0.8975 - val_loss: 0.1700 - val_accuracy: 0.9565\n",
            "Epoch 2/5\n",
            "422/422 [==============================] - 2s 6ms/step - loss: 0.1713 - accuracy: 0.9512 - val_loss: 0.1250 - val_accuracy: 0.9637\n",
            "Epoch 3/5\n",
            "422/422 [==============================] - 2s 6ms/step - loss: 0.1242 - accuracy: 0.9649 - val_loss: 0.1055 - val_accuracy: 0.9705\n",
            "Epoch 4/5\n",
            "422/422 [==============================] - 2s 5ms/step - loss: 0.0964 - accuracy: 0.9723 - val_loss: 0.0927 - val_accuracy: 0.9730\n",
            "Epoch 5/5\n",
            "422/422 [==============================] - 2s 6ms/step - loss: 0.0781 - accuracy: 0.9777 - val_loss: 0.0906 - val_accuracy: 0.9728\n"
          ]
        },
        {
          "output_type": "execute_result",
          "data": {
            "text/plain": [
              "<keras.callbacks.History at 0x79e66c01a020>"
            ]
          },
          "metadata": {},
          "execution_count": 4
        }
      ]
    },
    {
      "cell_type": "markdown",
      "source": [
        "## **Step 5**: Evaluate the model on the test set"
      ],
      "metadata": {
        "id": "XQ409wT3kRBl"
      }
    },
    {
      "cell_type": "code",
      "source": [
        "test_loss, test_accuracy = model.evaluate(test_images, test_labels)\n",
        "print(f\"Test accuracy: {test_accuracy}\")"
      ],
      "metadata": {
        "colab": {
          "base_uri": "https://localhost:8080/"
        },
        "id": "Gu9Kc0wqkLbo",
        "outputId": "d9fd4759-bc22-4870-80b8-8fbfc551efd9"
      },
      "execution_count": null,
      "outputs": [
        {
          "output_type": "stream",
          "name": "stdout",
          "text": [
            "313/313 [==============================] - 1s 2ms/step - loss: 0.0926 - accuracy: 0.9721\n",
            "Test accuracy: 0.972100019454956\n"
          ]
        }
      ]
    },
    {
      "cell_type": "markdown",
      "source": [
        "## Different neural architecture"
      ],
      "metadata": {
        "id": "ISIIhxD8lGE0"
      }
    },
    {
      "cell_type": "code",
      "source": [
        "def create_model_2(hidden_units=256):\n",
        "    model = Sequential([\n",
        "        Dense(hidden_units, activation='relu', input_shape=(784,)),\n",
        "        Dense(hidden_units, activation='relu'),\n",
        "        Dense(10, activation='softmax')\n",
        "    ])\n",
        "    return model\n",
        "\n",
        "# Compile and train the model\n",
        "model_2 = create_model_2()\n",
        "model_2.compile(optimizer=Adam(), loss='sparse_categorical_crossentropy', metrics=['accuracy'])\n",
        "model_2.fit(train_images, train_labels, epochs=5, batch_size=128, validation_split=0.1)\n",
        "\n",
        "# Evaluate the model on the test set\n",
        "test_loss_2, test_accuracy_2 = model_2.evaluate(test_images, test_labels)\n",
        "print(f\"Architecture 2 - Test accuracy: {test_accuracy_2}\")"
      ],
      "metadata": {
        "colab": {
          "base_uri": "https://localhost:8080/"
        },
        "id": "p50iVt4vkjwN",
        "outputId": "cdd73d28-a619-40f3-f149-43baa82d08c2"
      },
      "execution_count": null,
      "outputs": [
        {
          "output_type": "stream",
          "name": "stdout",
          "text": [
            "Epoch 1/5\n",
            "422/422 [==============================] - 6s 13ms/step - loss: 0.2801 - accuracy: 0.9183 - val_loss: 0.1097 - val_accuracy: 0.9697\n",
            "Epoch 2/5\n",
            "422/422 [==============================] - 4s 10ms/step - loss: 0.1070 - accuracy: 0.9684 - val_loss: 0.0903 - val_accuracy: 0.9733\n",
            "Epoch 3/5\n",
            "422/422 [==============================] - 4s 10ms/step - loss: 0.0697 - accuracy: 0.9784 - val_loss: 0.0853 - val_accuracy: 0.9748\n",
            "Epoch 4/5\n",
            "422/422 [==============================] - 5s 12ms/step - loss: 0.0491 - accuracy: 0.9849 - val_loss: 0.0752 - val_accuracy: 0.9772\n",
            "Epoch 5/5\n",
            "422/422 [==============================] - 4s 10ms/step - loss: 0.0347 - accuracy: 0.9895 - val_loss: 0.0658 - val_accuracy: 0.9805\n",
            "313/313 [==============================] - 1s 4ms/step - loss: 0.0669 - accuracy: 0.9792\n",
            "Architecture 2 - Test accuracy: 0.979200005531311\n"
          ]
        }
      ]
    },
    {
      "cell_type": "code",
      "source": [],
      "metadata": {
        "id": "Rm6mc0-tlKpD"
      },
      "execution_count": null,
      "outputs": []
    }
  ]
}