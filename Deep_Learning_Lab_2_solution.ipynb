{
  "cells": [
    {
      "cell_type": "markdown",
      "metadata": {
        "id": "view-in-github",
        "colab_type": "text"
      },
      "source": [
        "<a href=\"https://colab.research.google.com/github/DoctorVinay8097/DLprojects/blob/main/Deep_Learning_Lab_2_solution.ipynb\" target=\"_parent\"><img src=\"https://colab.research.google.com/assets/colab-badge.svg\" alt=\"Open In Colab\"/></a>"
      ]
    },
    {
      "cell_type": "markdown",
      "metadata": {
        "id": "08b_tRL3iwBN"
      },
      "source": [
        "# **Implement a python program to recognise characters. Use MNIST dataset for the same.**"
      ]
    },
    {
      "cell_type": "markdown",
      "metadata": {
        "id": "WI2q14Q3vDs5"
      },
      "source": [
        "* Modified National Institute of Standards and Technology database.\n",
        "* The dataset consists of a large collection of 28x28 grayscale images of handwritten digits from 0 to 9.\n",
        "* These images are accompanied by corresponding labels indicating the actual digit represented by each image."
      ]
    },
    {
      "cell_type": "markdown",
      "metadata": {
        "id": "-gVaiHXdvcvB"
      },
      "source": [
        "**Image Size and Format:**\n",
        "\n",
        "\n",
        "The images in the MNIST dataset are grayscale, meaning they have only one channel (**black and white**). Each image has a resolution of 28x28 pixels, which makes them relatively small compared to modern datasets. The pixel values range from **0 to 255**, where **0 represents black and 255 represents white**."
      ]
    },
    {
      "cell_type": "code",
      "execution_count": 1,
      "metadata": {
        "colab": {
          "base_uri": "https://localhost:8080/",
          "height": 463
        },
        "id": "umlCWBG2vyly",
        "outputId": "7b3fa66f-5e1a-403b-f228-b45f9d568d45"
      },
      "outputs": [
        {
          "output_type": "stream",
          "name": "stdout",
          "text": [
            "Downloading data from https://storage.googleapis.com/tensorflow/tf-keras-datasets/mnist.npz\n",
            "11490434/11490434 [==============================] - 0s 0us/step\n"
          ]
        },
        {
          "output_type": "display_data",
          "data": {
            "text/plain": [
              "<Figure size 640x480 with 1 Axes>"
            ],
            "image/png": "[encoded data removed]"
          },
          "metadata": {}
        }
      ],
      "source": [
        "# Sample data\n",
        "import matplotlib.pyplot as plt\n",
        "from tensorflow.keras.datasets import mnist\n",
        "\n",
        "# Load the MNIST dataset\n",
        "(train_images, train_labels), (test_images, test_labels) = mnist.load_data()\n",
        "\n",
        "image_instance = 10\n",
        "\n",
        "# Display the image\n",
        "_image = train_images[image_instance]\n",
        "ground_truth = train_labels[image_instance]\n",
        "\n",
        "# Plot the image and show the ground truth label\n",
        "plt.imshow(_image, cmap='gray')\n",
        "plt.title(f\"Ground Truth Label: {ground_truth}\")\n",
        "plt.axis('off')\n",
        "plt.show()"
      ]
    },
    {
      "cell_type": "code",
      "execution_count": 2,
      "metadata": {
        "colab": {
          "base_uri": "https://localhost:8080/"
        },
        "id": "sl50je8Ow1W4",
        "outputId": "4b9e1a7f-9acc-493a-dc46-a3ff70d657d3"
      },
      "outputs": [
        {
          "output_type": "stream",
          "name": "stdout",
          "text": [
            "The shape of a single image sample or example: (28, 28)\n"
          ]
        }
      ],
      "source": [
        "print(f\"The shape of a single image sample or example: {_image.shape}\")"
      ]
    },
    {
      "cell_type": "markdown",
      "metadata": {
        "id": "Nc29oAY8xekl"
      },
      "source": [
        "**Number of Samples:**\n",
        "\n",
        "The MNIST dataset contains a total of **70,000 samples**. These samples are divided into two main parts: the **training set and the test set**.\n"
      ]
    },
    {
      "cell_type": "markdown",
      "metadata": {
        "id": "zvIpLXMdxxzb"
      },
      "source": [
        "**Training Set:**\n",
        "\n",
        "\n",
        "The training set consists of **60,000** images and their **corresponding labels**. These samples are used to train machine learning models to recognize and classify digits accurately. The training set is the part of the dataset that the model learns from."
      ]
    },
    {
      "cell_type": "markdown",
      "metadata": {
        "id": "xjN-nvAdxy6x"
      },
      "source": [
        "**Test Set:**\n",
        "\n",
        "The test set contains **10,000 images and labels**. After training the model using the training set, it is evaluated using the test set to assess its **performance and generalization capabilities**. The test set is a way to measure how well the model can **generalize to new, unseen data.**"
      ]
    },
    {
      "cell_type": "code",
      "execution_count": 3,
      "metadata": {
        "colab": {
          "base_uri": "https://localhost:8080/"
        },
        "id": "nUJN3TvAxWC6",
        "outputId": "762b7050-d22b-4bbd-e5bd-7ad04ca78c63"
      },
      "outputs": [
        {
          "output_type": "stream",
          "name": "stdout",
          "text": [
            "The shape of the training set: (60000, 28, 28)\n",
            "The shape of the training labels: (60000,)\n",
            "The shape of the test set: (10000, 28, 28)\n",
            "The shape of the test labels: (10000,)\n"
          ]
        }
      ],
      "source": [
        "print(f\"The shape of the training set: {train_images.shape}\")\n",
        "print(f\"The shape of the training labels: {train_labels.shape}\")\n",
        "print(f\"The shape of the test set: {test_images.shape}\")\n",
        "print(f\"The shape of the test labels: {test_labels.shape}\")"
      ]
    },
    {
      "cell_type": "markdown",
      "metadata": {
        "id": "9wQtxbwzy_vE"
      },
      "source": [
        "**Label Format:**\n",
        "\n",
        "\n",
        "The labels in the MNIST dataset are integers from 0 to 9, representing the actual digits that the images depict. For example, the label '5' corresponds to an image of the handwritten digit 5."
      ]
    },
    {
      "cell_type": "markdown",
      "metadata": {
        "id": "QzSkgI1Di0We"
      },
      "source": [
        "# The steps we'll follow in this practical are as follows:\n",
        "\n",
        "1.   Import necessary libraries (Keras and Tensor flow)\n",
        "2.   Load and preprocess the MNIST dataset\n",
        "3.   Build a neural network model using Keras\n",
        "4.   Compile and train the model\n",
        "5.   Evaluate the model on the test set"
      ]
    },
    {
      "cell_type": "markdown",
      "metadata": {
        "id": "MBaijmtMjO1d"
      },
      "source": [
        "## **Step 1**: Import necessary libraries (**Keras and Tensor flow**)\n"
      ]
    },
    {
      "cell_type": "markdown",
      "metadata": {
        "id": "vmlac1yW16pI"
      },
      "source": [
        "* **TensorFlow**, the elder of the two, was created by a group of researchers and engineers working at **Google Brain** in 2011 designed to facilitate and streamline the development of **deep neural networks**.\n",
        "\n",
        "* It quickly gained popularity due to its flexibility, scalability, and support for **distributed computing**.\n",
        "\n",
        "*  Deep learning frameworks overly **complex and difficult to work with.**\n",
        "\n",
        "\n",
        "* **Keras** was born out of the mind of **François Chollet**, a deep learning researcher and software engineer.\n",
        "\n",
        "* François created Keras as a **high-level neural network API**, capable of running on top of different deep learning backends, including TensorFlow. Keras was later integrated into TensorFlow in 2017 as its **official high-level API.**\n",
        "\n",
        "* TensorFlow provided the strong backbone and low-level capabilities, while Keras added a user-friendly interface that abstracted away much of the complexities of deep learning.\n",
        "\n"
      ]
    },
    {
      "cell_type": "code",
      "execution_count": 4,
      "metadata": {
        "id": "bkWocLlejV6-"
      },
      "outputs": [],
      "source": [
        "import numpy as np\n",
        "import tensorflow as tf\n",
        "from tensorflow.keras.datasets import mnist"
      ]
    },
    {
      "cell_type": "markdown",
      "metadata": {
        "id": "EbDYhdJFjdQe"
      },
      "source": [
        "## **Step 2**: Load and preprocess the MNIST dataset\n"
      ]
    },
    {
      "cell_type": "code",
      "execution_count": 5,
      "metadata": {
        "id": "FQuiWGInjkN5"
      },
      "outputs": [],
      "source": [
        "# Load the MNIST dataset\n",
        "(train_images, train_labels), (test_images, test_labels) = mnist.load_data()\n",
        "\n",
        "# Normalize the images to values between 0 and 1\n",
        "train_images = train_images / 255.0\n",
        "test_images = test_images / 255.0\n",
        "\n",
        "# Reshape the images to a 1D vector (flatten)\n",
        "train_images = train_images.reshape(train_images.shape[0], 28 * 28)\n",
        "test_images = test_images.reshape(test_images.shape[0], 28 * 28)\n"
      ]
    },
    {
      "cell_type": "code",
      "execution_count": 6,
      "metadata": {
        "id": "fggMPo1iN60J",
        "colab": {
          "base_uri": "https://localhost:8080/"
        },
        "outputId": "6974f276-9d92-4d54-dee9-0555da64cca0"
      },
      "outputs": [
        {
          "output_type": "stream",
          "name": "stdout",
          "text": [
            "The shape of train_images: (60000, 784)\n",
            "The shape of train_images: (10000, 784)\n"
          ]
        }
      ],
      "source": [
        "print(f\"The shape of train_images: {train_images.shape}\")\n",
        "print(f\"The shape of train_images: {test_images.shape}\")"
      ]
    },
    {
      "cell_type": "markdown",
      "metadata": {
        "id": "2137qFnwj2YI"
      },
      "source": [
        "## **Step 3**: Build a neural network model using Keras\n"
      ]
    },
    {
      "cell_type": "markdown",
      "metadata": {
        "id": "_a6qjqINIvKl"
      },
      "source": [
        "## **Sequential**\n",
        "* In Keras, Sequential is a class that represents a **linear stack of layers** in a neural network model.\n",
        "* It is a convenient way to build a simple feedforward neural network, where **data flows sequentially** from the input layer through the hidden layers to the output layer.\n",
        "* The Sequential class allows you to add layers one by one in a linear manner."
      ]
    },
    {
      "cell_type": "markdown",
      "metadata": {
        "id": "hcLCAg6FMu-I"
      },
      "source": [
        "## **Dense**\n",
        "* In Keras, Dense is one of the fundamental layers used to create fully connected neural networks.\n",
        "* It is also known as a fully connected layer or a dense layer because each neuron in this layer is connected to every neuron in the previous and subsequent layers."
      ]
    },
    {
      "cell_type": "code",
      "execution_count": 7,
      "metadata": {
        "colab": {
          "base_uri": "https://localhost:8080/"
        },
        "id": "fnUEbDOLjtY-",
        "outputId": "67db49db-df9e-4561-ed54-f99239130e5a"
      },
      "outputs": [
        {
          "output_type": "stream",
          "name": "stdout",
          "text": [
            "Model: \"sequential\"\n",
            "_________________________________________________________________\n",
            " Layer (type)                Output Shape              Param #   \n",
            "=================================================================\n",
            " dense (Dense)               (None, 128)               100480    \n",
            "                                                                 \n",
            " dense_1 (Dense)             (None, 10)                1290      \n",
            "                                                                 \n",
            "=================================================================\n",
            "Total params: 101,770\n",
            "Trainable params: 101,770\n",
            "Non-trainable params: 0\n",
            "_________________________________________________________________\n",
            "None\n"
          ]
        }
      ],
      "source": [
        "from tensorflow.keras.models import Sequential\n",
        "from tensorflow.keras.layers import Dense\n",
        "\n",
        "def create_model():\n",
        "    model = Sequential([\n",
        "        Dense(128, activation='relu', input_shape=(784,)),\n",
        "        Dense(10, activation='softmax')\n",
        "\n",
        "\n",
        "    ])\n",
        "    return model\n",
        "\n",
        "model = create_model()\n",
        "print(model.summary())"
      ]
    },
    {
      "cell_type": "markdown",
      "metadata": {
        "id": "D9qImnFtkGNV"
      },
      "source": [
        "## **Step 4**: Compile and train the model"
      ]
    },
    {
      "cell_type": "markdown",
      "metadata": {
        "id": "_vil2GuUQY42"
      },
      "source": [
        "* In Keras, **model.compile()** is a method used to configure the training process for a neural network model.\n",
        "* It is one of the essential steps before training a model as it defines the **optimizer, loss function, and metrics** that the model will use during the training process."
      ]
    },
    {
      "cell_type": "markdown",
      "metadata": {
        "id": "3mZ6war_PuYP"
      },
      "source": [
        "## **Optimizer**\n",
        "* In Keras, **Adam is an optimization algorith**m that is widely used for training deep learning models.\n",
        "* Adam stands for **Adaptive Moment Estimation**, and it combines the ideas of both Momentum and RMSprop algorithms.\n",
        "* It is well-suited for **large-scale and complex problems** and is known for its efficiency, fast convergence, and robustness to noisy data."
      ]
    },
    {
      "cell_type": "markdown",
      "metadata": {
        "id": "XccdFW3hQ-8p"
      },
      "source": [
        "## **Loss function**\n",
        "* Suitable for: **Multi-class classification problems** with integer labels (not one-hot encoded).\n",
        "* Formula:  - Σ(y_true * log(y_pred))\n",
        "* Description: Sparse categorical crossentropy is used when the class labels are represented as integers instead of one-hot encoded vectors. It saves memory and is convenient when you have a large number of classes."
      ]
    },
    {
      "cell_type": "code",
      "execution_count": 8,
      "metadata": {
        "colab": {
          "base_uri": "https://localhost:8080/"
        },
        "id": "bJ0iTv1MkCkj",
        "outputId": "458b4e73-7823-4179-c8dd-7e9a8691676d"
      },
      "outputs": [
        {
          "output_type": "stream",
          "name": "stdout",
          "text": [
            "Epoch 1/5\n",
            "469/469 [==============================] - 6s 9ms/step - loss: 0.3615 - accuracy: 0.9006\n",
            "Epoch 2/5\n",
            "469/469 [==============================] - 5s 10ms/step - loss: 0.1620 - accuracy: 0.9537\n",
            "Epoch 3/5\n",
            "469/469 [==============================] - 5s 11ms/step - loss: 0.1171 - accuracy: 0.9657\n",
            "Epoch 4/5\n",
            "469/469 [==============================] - 4s 8ms/step - loss: 0.0909 - accuracy: 0.9739\n",
            "Epoch 5/5\n",
            "469/469 [==============================] - 2s 5ms/step - loss: 0.0738 - accuracy: 0.9784\n"
          ]
        },
        {
          "output_type": "execute_result",
          "data": {
            "text/plain": [
              "<keras.callbacks.History at 0x78a25de624d0>"
            ]
          },
          "metadata": {},
          "execution_count": 8
        }
      ],
      "source": [
        "from tensorflow.keras.optimizers import Adam\n",
        "# Create the model\n",
        "\n",
        "# Compile the model\n",
        "\n",
        "model.compile(optimizer=Adam(), loss='sparse_categorical_crossentropy', metrics=['accuracy'])\n",
        "\n",
        "# Train the model\n",
        "model.fit(train_images, train_labels, epochs=5, batch_size=128)"
      ]
    },
    {
      "cell_type": "markdown",
      "metadata": {
        "id": "XQ409wT3kRBl"
      },
      "source": [
        "## **Step 5**: Evaluate the model on the test set\n",
        "* The train set accuracy cannot determine the model performance. We need to test the model's performance on the test set."
      ]
    },
    {
      "cell_type": "code",
      "execution_count": 9,
      "metadata": {
        "colab": {
          "base_uri": "https://localhost:8080/"
        },
        "id": "Gu9Kc0wqkLbo",
        "outputId": "86f0e987-6f0b-4567-83ee-5044f110f890"
      },
      "outputs": [
        {
          "output_type": "stream",
          "name": "stdout",
          "text": [
            "313/313 [==============================] - 1s 2ms/step - loss: 0.0919 - accuracy: 0.9734\n",
            "Test accuracy: 0.9733999967575073\n"
          ]
        }
      ],
      "source": [
        "test_loss, test_accuracy = model.evaluate(test_images, test_labels)\n",
        "print(f\"Test accuracy: {test_accuracy}\")"
      ]
    },
    {
      "cell_type": "markdown",
      "metadata": {
        "id": "Prt0DDrNg15_"
      },
      "source": [
        "* Since from the above results, we observe that the test accuracy is near to the train accuracy, we can say that the model is good."
      ]
    },
    {
      "cell_type": "markdown",
      "metadata": {
        "id": "ISIIhxD8lGE0"
      },
      "source": [
        "## Different neural architecture\n",
        "* In the neural network, the number of layer (nL), number of neurons per layer (nPL) along with the number of epochs and the learning rate are variables. We need to try different combinations of layers and neuron per layer.\n",
        "* Remember the number of neurons per layer (nPL) should be converging meaning the neurons in a given layer should be more than the next layer.\n",
        "* Generally, we take a large number of neurons for the first layer and gradually decrease in the subsequent layers."
      ]
    },
    {
      "cell_type": "code",
      "execution_count": 10,
      "metadata": {
        "colab": {
          "base_uri": "https://localhost:8080/"
        },
        "id": "p50iVt4vkjwN",
        "outputId": "b3b79352-99a0-4d01-ad7c-e06e0447d150"
      },
      "outputs": [
        {
          "output_type": "stream",
          "name": "stdout",
          "text": [
            "Epoch 1/5\n",
            "469/469 [==============================] - 5s 9ms/step - loss: 0.2728 - accuracy: 0.9220\n",
            "Epoch 2/5\n",
            "469/469 [==============================] - 4s 8ms/step - loss: 0.1066 - accuracy: 0.9684\n",
            "Epoch 3/5\n",
            "469/469 [==============================] - 4s 8ms/step - loss: 0.0696 - accuracy: 0.9787\n",
            "Epoch 4/5\n",
            "469/469 [==============================] - 5s 10ms/step - loss: 0.0495 - accuracy: 0.9845\n",
            "Epoch 5/5\n",
            "469/469 [==============================] - 4s 8ms/step - loss: 0.0377 - accuracy: 0.9880\n",
            "313/313 [==============================] - 1s 2ms/step - loss: 0.0732 - accuracy: 0.9772\n",
            "Architecture 2 - Test accuracy: 0.9771999716758728\n"
          ]
        }
      ],
      "source": [
        "def create_model_2():\n",
        "    model = Sequential([\n",
        "        Dense(256, activation='relu', input_shape=(784,)),\n",
        "        Dense(128, activation='relu'),\n",
        "        Dense(10, activation='softmax')\n",
        "    ])\n",
        "    return model\n",
        "\n",
        "# Compile and train the model\n",
        "model_2 = create_model_2()\n",
        "model_2.compile(optimizer=Adam(), loss='sparse_categorical_crossentropy', metrics=['accuracy'])\n",
        "model_2.fit(train_images, train_labels, epochs=5, batch_size=128)\n",
        "\n",
        "# Evaluate the model on the test set\n",
        "test_loss_2, test_accuracy_2 = model_2.evaluate(test_images, test_labels)\n",
        "print(f\"Architecture 2 - Test accuracy: {test_accuracy_2}\")"
      ]
    },
    {
      "cell_type": "code",
      "execution_count": 10,
      "metadata": {
        "id": "Rm6mc0-tlKpD"
      },
      "outputs": [],
      "source": []
    }
  ],
  "metadata": {
    "colab": {
      "provenance": [],
      "include_colab_link": true
    },
    "kernelspec": {
      "display_name": "Python 3",
      "name": "python3"
    },
    "language_info": {
      "name": "python"
    }
  },
  "nbformat": 4,
  "nbformat_minor": 0
}